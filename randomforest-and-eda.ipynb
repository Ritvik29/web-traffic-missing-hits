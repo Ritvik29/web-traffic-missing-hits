{
 "cells": [
  {
   "cell_type": "code",
   "execution_count": 1,
   "metadata": {
    "_cell_guid": "b1076dfc-b9ad-4769-8c92-a6c4dae69d19",
    "_uuid": "8f2839f25d086af736a60e9eeb907d3b93b6e0e5"
   },
   "outputs": [
    {
     "data": {
      "text/plain": [
       "'\\n# This Python 3 environment comes with many helpful analytics libraries installed\\n# It is defined by the kaggle/python Docker image: https://github.com/kaggle/docker-python\\n# For example, here\\'s several helpful packages to load\\n\\nimport numpy as np # linear algebra\\nimport pandas as pd # data processing, CSV file I/O (e.g. pd.read_csv)\\n\\n# Input data files are available in the read-only \"../input/\" directory\\n# For example, running this (by clicking run or pressing Shift+Enter) will list all files under the input directory\\n\\nimport os\\nfor dirname, _, filenames in os.walk(\\'/kaggle/input\\'):\\n    for filename in filenames:\\n        print(os.path.join(dirname, filename))\\n\\n# You can write up to 20GB to the current directory (/kaggle/working/) that gets preserved as output when you create a version using \"Save & Run All\" \\n# You can also write temporary files to /kaggle/temp/, but they won\\'t be saved outside of the current session\\n'"
      ]
     },
     "execution_count": 1,
     "metadata": {},
     "output_type": "execute_result"
    }
   ],
   "source": [
    "\"\"\"\n",
    "# This Python 3 environment comes with many helpful analytics libraries installed\n",
    "# It is defined by the kaggle/python Docker image: https://github.com/kaggle/docker-python\n",
    "# For example, here's several helpful packages to load\n",
    "\n",
    "import numpy as np # linear algebra\n",
    "import pandas as pd # data processing, CSV file I/O (e.g. pd.read_csv)\n",
    "\n",
    "# Input data files are available in the read-only \"../input/\" directory\n",
    "# For example, running this (by clicking run or pressing Shift+Enter) will list all files under the input directory\n",
    "\n",
    "import os\n",
    "for dirname, _, filenames in os.walk('/kaggle/input'):\n",
    "    for filename in filenames:\n",
    "        print(os.path.join(dirname, filename))\n",
    "\n",
    "# You can write up to 20GB to the current directory (/kaggle/working/) that gets preserved as output when you create a version using \"Save & Run All\" \n",
    "# You can also write temporary files to /kaggle/temp/, but they won't be saved outside of the current session\n",
    "\"\"\""
   ]
  },
  {
   "cell_type": "code",
   "execution_count": 2,
   "metadata": {},
   "outputs": [],
   "source": [
    "import pandas as pd\n",
    "import numpy as np\n",
    "import seaborn as sns\n",
    "import matplotlib.pyplot as plt\n",
    "from scipy import stats\n",
    "from sklearn.model_selection import train_test_split\n",
    "from sklearn.model_selection import RandomizedSearchCV\n",
    "from sklearn.metrics import make_scorer\n",
    "from sklearn.metrics import mean_squared_error\n",
    "from sklearn.ensemble import RandomForestRegressor\n"
   ]
  },
  {
   "cell_type": "code",
   "execution_count": 3,
   "metadata": {
    "_cell_guid": "79c7e3d0-c299-4dcb-8224-4455121ee9b0",
    "_uuid": "d629ff2d2480ee46fbb7e2d37f6b5fab8052498a"
   },
   "outputs": [],
   "source": [
    "columns = ['row_num',\n",
    "           'locale',\n",
    "           'day_of_week',\n",
    "           'hour_of_day',\n",
    "            'agent_id',\n",
    "           'entry_page',\n",
    "           'path_id_set',\n",
    "           'traffic_type',\n",
    "           'session_duration',\n",
    "           'hits'\n",
    "        ]"
   ]
  },
  {
   "cell_type": "code",
   "execution_count": 4,
   "metadata": {},
   "outputs": [
    {
     "name": "stderr",
     "output_type": "stream",
     "text": [
      "C:\\Users\\ritvi\\Anaconda3\\lib\\site-packages\\IPython\\core\\interactiveshell.py:3071: DtypeWarning: Columns (8) have mixed types.Specify dtype option on import or set low_memory=False.\n",
      "  has_raised = await self.run_ast_nodes(code_ast.body, cell_name,\n"
     ]
    }
   ],
   "source": [
    "\n",
    "\n",
    "#df = pd.read_csv('../input/webtrafficanalysis/MLDataScientistCaseStudyData2020.csv',sep = ',',names =columns )\n",
    "df = pd.read_csv('MLDataScientistCaseStudyData2020.csv',sep = ',',names =columns )"
   ]
  },
  {
   "cell_type": "code",
   "execution_count": 5,
   "metadata": {},
   "outputs": [
    {
     "data": {
      "text/html": [
       "<div>\n",
       "<style scoped>\n",
       "    .dataframe tbody tr th:only-of-type {\n",
       "        vertical-align: middle;\n",
       "    }\n",
       "\n",
       "    .dataframe tbody tr th {\n",
       "        vertical-align: top;\n",
       "    }\n",
       "\n",
       "    .dataframe thead th {\n",
       "        text-align: right;\n",
       "    }\n",
       "</style>\n",
       "<table border=\"1\" class=\"dataframe\">\n",
       "  <thead>\n",
       "    <tr style=\"text-align: right;\">\n",
       "      <th></th>\n",
       "      <th>row_num</th>\n",
       "      <th>locale</th>\n",
       "      <th>day_of_week</th>\n",
       "      <th>hour_of_day</th>\n",
       "      <th>agent_id</th>\n",
       "      <th>entry_page</th>\n",
       "      <th>path_id_set</th>\n",
       "      <th>traffic_type</th>\n",
       "      <th>session_duration</th>\n",
       "      <th>hits</th>\n",
       "    </tr>\n",
       "  </thead>\n",
       "  <tbody>\n",
       "    <tr>\n",
       "      <th>0</th>\n",
       "      <td>1</td>\n",
       "      <td>L1</td>\n",
       "      <td>Saturday</td>\n",
       "      <td>23</td>\n",
       "      <td>1</td>\n",
       "      <td>2100</td>\n",
       "      <td>34308;0;183</td>\n",
       "      <td>1</td>\n",
       "      <td>617</td>\n",
       "      <td>\\N</td>\n",
       "    </tr>\n",
       "    <tr>\n",
       "      <th>1</th>\n",
       "      <td>2</td>\n",
       "      <td>L3</td>\n",
       "      <td>Sunday</td>\n",
       "      <td>8</td>\n",
       "      <td>9</td>\n",
       "      <td>2113</td>\n",
       "      <td>32131;0</td>\n",
       "      <td>2</td>\n",
       "      <td>0</td>\n",
       "      <td>\\N</td>\n",
       "    </tr>\n",
       "    <tr>\n",
       "      <th>2</th>\n",
       "      <td>3</td>\n",
       "      <td>L3</td>\n",
       "      <td>Saturday</td>\n",
       "      <td>14</td>\n",
       "      <td>9</td>\n",
       "      <td>2100</td>\n",
       "      <td>34330;0</td>\n",
       "      <td>6</td>\n",
       "      <td>17</td>\n",
       "      <td>\\N</td>\n",
       "    </tr>\n",
       "    <tr>\n",
       "      <th>3</th>\n",
       "      <td>4</td>\n",
       "      <td>L2</td>\n",
       "      <td>Saturday</td>\n",
       "      <td>14</td>\n",
       "      <td>8</td>\n",
       "      <td>2116</td>\n",
       "      <td>89172;0</td>\n",
       "      <td>3</td>\n",
       "      <td>3</td>\n",
       "      <td>11</td>\n",
       "    </tr>\n",
       "    <tr>\n",
       "      <th>4</th>\n",
       "      <td>5</td>\n",
       "      <td>L5</td>\n",
       "      <td>Friday</td>\n",
       "      <td>9</td>\n",
       "      <td>2</td>\n",
       "      <td>2100</td>\n",
       "      <td>31777;0</td>\n",
       "      <td>1</td>\n",
       "      <td>610</td>\n",
       "      <td>67</td>\n",
       "    </tr>\n",
       "  </tbody>\n",
       "</table>\n",
       "</div>"
      ],
      "text/plain": [
       "   row_num locale day_of_week  hour_of_day  agent_id  entry_page  path_id_set  \\\n",
       "0        1     L1    Saturday           23         1        2100  34308;0;183   \n",
       "1        2     L3      Sunday            8         9        2113      32131;0   \n",
       "2        3     L3    Saturday           14         9        2100      34330;0   \n",
       "3        4     L2    Saturday           14         8        2116      89172;0   \n",
       "4        5     L5      Friday            9         2        2100      31777;0   \n",
       "\n",
       "   traffic_type session_duration hits  \n",
       "0             1              617   \\N  \n",
       "1             2                0   \\N  \n",
       "2             6               17   \\N  \n",
       "3             3                3   11  \n",
       "4             1              610   67  "
      ]
     },
     "execution_count": 5,
     "metadata": {},
     "output_type": "execute_result"
    }
   ],
   "source": [
    "df.head()"
   ]
  },
  {
   "cell_type": "code",
   "execution_count": 6,
   "metadata": {},
   "outputs": [],
   "source": [
    "#import missingno as msno\n",
    "#msno.bar(df)"
   ]
  },
  {
   "cell_type": "code",
   "execution_count": 7,
   "metadata": {},
   "outputs": [],
   "source": [
    "def week_to_num(x):\n",
    "    if x=='Monday':\n",
    "        return 0\n",
    "    elif x=='Tuesday':\n",
    "        return 1\n",
    "    elif x =='Wednesday':\n",
    "        return 2\n",
    "    elif x == 'Thursday':\n",
    "        return 3\n",
    "    elif x == 'Friday':\n",
    "        return 4\n",
    "    elif x == 'Saturday':\n",
    "        return 6\n",
    "    elif x == 'Sunday':\n",
    "        return 7\n",
    "    \n",
    "    \n",
    "def rmse(y,yhat):\n",
    "    y = np.array(y)\n",
    "    yhat = np.array(yhat)\n",
    "    sqrd_err = np.sum((y-yhat)**2)\n",
    "    rmse = np.sqrt(sqrd_err/len(y))\n",
    "    return rmse\n",
    "    \n",
    "def feature_importances(clf,df_test2_x):\n",
    "    fimp = clf.feature_importances_\n",
    "    c1 = df_test2_x.columns.tolist()\n",
    "    Feature_I = pd.DataFrame(data={'colnames':c1,'Feature_Imp':fimp})\n",
    "    Feature_I.sort_values('Feature_Imp',ascending =False,inplace=True)\n",
    "    Feature_I.to_csv('Feature_Importance.csv')\n",
    "    return (Feature_I)"
   ]
  },
  {
   "cell_type": "code",
   "execution_count": 8,
   "metadata": {},
   "outputs": [
    {
     "name": "stdout",
     "output_type": "stream",
     "text": [
      "<class 'pandas.core.frame.DataFrame'>\n",
      "RangeIndex: 949194 entries, 0 to 949193\n",
      "Data columns (total 10 columns):\n",
      " #   Column            Non-Null Count   Dtype \n",
      "---  ------            --------------   ----- \n",
      " 0   row_num           949194 non-null  int64 \n",
      " 1   locale            949194 non-null  object\n",
      " 2   day_of_week       949194 non-null  object\n",
      " 3   hour_of_day       949194 non-null  int64 \n",
      " 4   agent_id          949194 non-null  int64 \n",
      " 5   entry_page        949194 non-null  int64 \n",
      " 6   path_id_set       928784 non-null  object\n",
      " 7   traffic_type      949194 non-null  int64 \n",
      " 8   session_duration  949194 non-null  object\n",
      " 9   hits              949194 non-null  object\n",
      "dtypes: int64(5), object(5)\n",
      "memory usage: 72.4+ MB\n"
     ]
    }
   ],
   "source": [
    "df.info()"
   ]
  },
  {
   "cell_type": "code",
   "execution_count": 9,
   "metadata": {},
   "outputs": [
    {
     "data": {
      "text/html": [
       "<div>\n",
       "<style scoped>\n",
       "    .dataframe tbody tr th:only-of-type {\n",
       "        vertical-align: middle;\n",
       "    }\n",
       "\n",
       "    .dataframe tbody tr th {\n",
       "        vertical-align: top;\n",
       "    }\n",
       "\n",
       "    .dataframe thead th {\n",
       "        text-align: right;\n",
       "    }\n",
       "</style>\n",
       "<table border=\"1\" class=\"dataframe\">\n",
       "  <thead>\n",
       "    <tr style=\"text-align: right;\">\n",
       "      <th></th>\n",
       "      <th>row_num</th>\n",
       "      <th>hour_of_day</th>\n",
       "      <th>agent_id</th>\n",
       "      <th>entry_page</th>\n",
       "      <th>traffic_type</th>\n",
       "    </tr>\n",
       "  </thead>\n",
       "  <tbody>\n",
       "    <tr>\n",
       "      <th>count</th>\n",
       "      <td>949194.000000</td>\n",
       "      <td>949194.000000</td>\n",
       "      <td>949194.000000</td>\n",
       "      <td>949194.000000</td>\n",
       "      <td>949194.000000</td>\n",
       "    </tr>\n",
       "    <tr>\n",
       "      <th>mean</th>\n",
       "      <td>474597.500000</td>\n",
       "      <td>13.243296</td>\n",
       "      <td>7.079211</td>\n",
       "      <td>2228.212251</td>\n",
       "      <td>2.952970</td>\n",
       "    </tr>\n",
       "    <tr>\n",
       "      <th>std</th>\n",
       "      <td>274008.850045</td>\n",
       "      <td>6.639427</td>\n",
       "      <td>3.982143</td>\n",
       "      <td>520.172290</td>\n",
       "      <td>2.069636</td>\n",
       "    </tr>\n",
       "    <tr>\n",
       "      <th>min</th>\n",
       "      <td>1.000000</td>\n",
       "      <td>0.000000</td>\n",
       "      <td>0.000000</td>\n",
       "      <td>2100.000000</td>\n",
       "      <td>1.000000</td>\n",
       "    </tr>\n",
       "    <tr>\n",
       "      <th>25%</th>\n",
       "      <td>237299.250000</td>\n",
       "      <td>9.000000</td>\n",
       "      <td>2.000000</td>\n",
       "      <td>2111.000000</td>\n",
       "      <td>1.000000</td>\n",
       "    </tr>\n",
       "    <tr>\n",
       "      <th>50%</th>\n",
       "      <td>474597.500000</td>\n",
       "      <td>14.000000</td>\n",
       "      <td>9.000000</td>\n",
       "      <td>2113.000000</td>\n",
       "      <td>2.000000</td>\n",
       "    </tr>\n",
       "    <tr>\n",
       "      <th>75%</th>\n",
       "      <td>711895.750000</td>\n",
       "      <td>19.000000</td>\n",
       "      <td>10.000000</td>\n",
       "      <td>2116.000000</td>\n",
       "      <td>6.000000</td>\n",
       "    </tr>\n",
       "    <tr>\n",
       "      <th>max</th>\n",
       "      <td>949194.000000</td>\n",
       "      <td>23.000000</td>\n",
       "      <td>15.000000</td>\n",
       "      <td>8101.000000</td>\n",
       "      <td>10.000000</td>\n",
       "    </tr>\n",
       "  </tbody>\n",
       "</table>\n",
       "</div>"
      ],
      "text/plain": [
       "             row_num    hour_of_day       agent_id     entry_page  \\\n",
       "count  949194.000000  949194.000000  949194.000000  949194.000000   \n",
       "mean   474597.500000      13.243296       7.079211    2228.212251   \n",
       "std    274008.850045       6.639427       3.982143     520.172290   \n",
       "min         1.000000       0.000000       0.000000    2100.000000   \n",
       "25%    237299.250000       9.000000       2.000000    2111.000000   \n",
       "50%    474597.500000      14.000000       9.000000    2113.000000   \n",
       "75%    711895.750000      19.000000      10.000000    2116.000000   \n",
       "max    949194.000000      23.000000      15.000000    8101.000000   \n",
       "\n",
       "        traffic_type  \n",
       "count  949194.000000  \n",
       "mean        2.952970  \n",
       "std         2.069636  \n",
       "min         1.000000  \n",
       "25%         1.000000  \n",
       "50%         2.000000  \n",
       "75%         6.000000  \n",
       "max        10.000000  "
      ]
     },
     "execution_count": 9,
     "metadata": {},
     "output_type": "execute_result"
    }
   ],
   "source": [
    "df.describe()"
   ]
  },
  {
   "cell_type": "code",
   "execution_count": 10,
   "metadata": {},
   "outputs": [
    {
     "data": {
      "text/plain": [
       "L3    0.404792\n",
       "L6    0.167388\n",
       "L2    0.148924\n",
       "L5    0.131913\n",
       "L4    0.104129\n",
       "L1    0.042853\n",
       "Name: locale, dtype: float64"
      ]
     },
     "execution_count": 10,
     "metadata": {},
     "output_type": "execute_result"
    }
   ],
   "source": [
    "df['locale'].value_counts(normalize = True)"
   ]
  },
  {
   "cell_type": "code",
   "execution_count": 11,
   "metadata": {},
   "outputs": [
    {
     "data": {
      "text/plain": [
       "1     0.326789\n",
       "2     0.302820\n",
       "6     0.290863\n",
       "3     0.047910\n",
       "4     0.029922\n",
       "7     0.001672\n",
       "10    0.000024\n",
       "Name: traffic_type, dtype: float64"
      ]
     },
     "execution_count": 11,
     "metadata": {},
     "output_type": "execute_result"
    }
   ],
   "source": [
    "df['traffic_type'].value_counts(normalize = True)"
   ]
  },
  {
   "cell_type": "code",
   "execution_count": 12,
   "metadata": {},
   "outputs": [],
   "source": [
    "df_path = df[['row_num','path_id_set']].copy()\n",
    "df_path.set_index('row_num',inplace = True)\n",
    "df_path2 = df_path['path_id_set'].str.split(';', expand=True)"
   ]
  },
  {
   "cell_type": "code",
   "execution_count": 13,
   "metadata": {},
   "outputs": [],
   "source": [
    "len(df['entry_page'].unique())\n",
    "imp_entry_pages = df['entry_page'].value_counts(normalize = True).head(7).keys()\n",
    "df['entry_page'].value_counts(normalize = True).head(7).sum()\n",
    "imp_agents = df['agent_id'].value_counts(normalize = True).head(7).keys()\n",
    "\n",
    "df['entry_page2'] = df['entry_page'].apply(lambda x:x if x in imp_entry_pages else 9999)\n",
    "\n",
    "\n"
   ]
  },
  {
   "cell_type": "code",
   "execution_count": 14,
   "metadata": {},
   "outputs": [],
   "source": [
    "imp_agent_ids = df['agent_id'].value_counts(normalize = True).head(7).keys()\n",
    "df['agent_id'].value_counts(normalize = True).head(7).sum()\n",
    "imp_agents = df['agent_id'].value_counts(normalize = True).head(7).keys()\n",
    "df['agent_id2'] = df['agent_id'].apply(lambda x:x if x in imp_agent_ids else 9999)"
   ]
  },
  {
   "cell_type": "code",
   "execution_count": 15,
   "metadata": {},
   "outputs": [
    {
     "data": {
      "text/plain": [
       "array([   1,    9,    8,    2, 9999,   10,    6,   14], dtype=int64)"
      ]
     },
     "execution_count": 15,
     "metadata": {},
     "output_type": "execute_result"
    }
   ],
   "source": [
    "df['agent_id2'].unique()"
   ]
  },
  {
   "cell_type": "code",
   "execution_count": 16,
   "metadata": {},
   "outputs": [],
   "source": [
    "df_tr = df[df['hits']!='\\\\N']\n",
    "df_te = df[df['hits']=='\\\\N']"
   ]
  },
  {
   "cell_type": "code",
   "execution_count": 17,
   "metadata": {},
   "outputs": [
    {
     "name": "stderr",
     "output_type": "stream",
     "text": [
      "<ipython-input-17-72b83f6d2af3>:2: SettingWithCopyWarning: \n",
      "A value is trying to be set on a copy of a slice from a DataFrame.\n",
      "Try using .loc[row_indexer,col_indexer] = value instead\n",
      "\n",
      "See the caveats in the documentation: https://pandas.pydata.org/pandas-docs/stable/user_guide/indexing.html#returning-a-view-versus-a-copy\n",
      "  df_tr['session_duration'] = df_tr['session_duration'].replace('\\\\N',np.nan)\n",
      "<ipython-input-17-72b83f6d2af3>:3: SettingWithCopyWarning: \n",
      "A value is trying to be set on a copy of a slice from a DataFrame.\n",
      "Try using .loc[row_indexer,col_indexer] = value instead\n",
      "\n",
      "See the caveats in the documentation: https://pandas.pydata.org/pandas-docs/stable/user_guide/indexing.html#returning-a-view-versus-a-copy\n",
      "  df_tr['session_duration'] = df_tr['session_duration'].astype(float)\n",
      "C:\\Users\\ritvi\\Anaconda3\\lib\\site-packages\\pandas\\core\\series.py:679: RuntimeWarning: divide by zero encountered in log\n",
      "  result = getattr(ufunc, method)(*inputs, **kwargs)\n",
      "<ipython-input-17-72b83f6d2af3>:4: SettingWithCopyWarning: \n",
      "A value is trying to be set on a copy of a slice from a DataFrame.\n",
      "Try using .loc[row_indexer,col_indexer] = value instead\n",
      "\n",
      "See the caveats in the documentation: https://pandas.pydata.org/pandas-docs/stable/user_guide/indexing.html#returning-a-view-versus-a-copy\n",
      "  df_tr['log_session_duration'] = np.log(df_tr['session_duration'])\n",
      "<ipython-input-17-72b83f6d2af3>:6: SettingWithCopyWarning: \n",
      "A value is trying to be set on a copy of a slice from a DataFrame.\n",
      "Try using .loc[row_indexer,col_indexer] = value instead\n",
      "\n",
      "See the caveats in the documentation: https://pandas.pydata.org/pandas-docs/stable/user_guide/indexing.html#returning-a-view-versus-a-copy\n",
      "  df_tr['path_length'] = df_tr['path_id_set'].apply(lambda x: str(x).split(';'))\n",
      "<ipython-input-17-72b83f6d2af3>:7: SettingWithCopyWarning: \n",
      "A value is trying to be set on a copy of a slice from a DataFrame.\n",
      "Try using .loc[row_indexer,col_indexer] = value instead\n",
      "\n",
      "See the caveats in the documentation: https://pandas.pydata.org/pandas-docs/stable/user_guide/indexing.html#returning-a-view-versus-a-copy\n",
      "  df_tr['path_length2'] =df_tr['path_length'].apply(lambda x:len(x))\n"
     ]
    }
   ],
   "source": [
    "\n",
    "#---------------------------------------------#\n",
    "df_tr['session_duration'] = df_tr['session_duration'].replace('\\\\N',np.nan)\n",
    "df_tr['session_duration'] = df_tr['session_duration'].astype(float)\n",
    "df_tr['log_session_duration'] = np.log(df_tr['session_duration'])\n",
    "\n",
    "df_tr['path_length'] = df_tr['path_id_set'].apply(lambda x: str(x).split(';'))\n",
    "df_tr['path_length2'] =df_tr['path_length'].apply(lambda x:len(x))\n"
   ]
  },
  {
   "cell_type": "code",
   "execution_count": 18,
   "metadata": {},
   "outputs": [
    {
     "data": {
      "text/plain": [
       "row_num              0.000000\n",
       "locale               0.000000\n",
       "day_of_week          0.000000\n",
       "hour_of_day          0.000000\n",
       "agent_id             0.000000\n",
       "entry_page           0.000000\n",
       "path_id_set          2.150245\n",
       "traffic_type         0.000000\n",
       "session_duration     0.000421\n",
       "hits                36.372649\n",
       "entry_page2          0.000000\n",
       "agent_id2            0.000000\n",
       "dtype: float64"
      ]
     },
     "execution_count": 18,
     "metadata": {},
     "output_type": "execute_result"
    }
   ],
   "source": [
    "df_test = df.copy()\n",
    "df_test['hits'] = df_test['hits'].replace('\\\\N',np.nan)\n",
    "df_test['session_duration'] = df_test['session_duration'].replace('\\\\N',np.nan)\n",
    "df_nullity = df_test.isnull()\n",
    "df_nullity.mean()*100"
   ]
  },
  {
   "cell_type": "code",
   "execution_count": 19,
   "metadata": {},
   "outputs": [],
   "source": [
    "#msno.heatmap(df_test)"
   ]
  },
  {
   "cell_type": "code",
   "execution_count": 20,
   "metadata": {},
   "outputs": [],
   "source": [
    "#msno.bar(df_test)"
   ]
  },
  {
   "cell_type": "markdown",
   "metadata": {},
   "source": [
    "# hits - missing completelt at Random (MCAR)****"
   ]
  },
  {
   "cell_type": "code",
   "execution_count": 21,
   "metadata": {},
   "outputs": [],
   "source": [
    "#msno.matrix(df_test)"
   ]
  },
  {
   "cell_type": "code",
   "execution_count": 22,
   "metadata": {},
   "outputs": [
    {
     "data": {
      "text/plain": [
       "\"\\ndf_grp = df.groupby(['entry_page','locale','traffic_type','day_of_week'])\\nfrom sklearn.impute import SimpleImputer\\ndf_s = pd.DataFrame()\\nfor x in df_grp:\\n    median_imputer = SimpleImputer(strategy = 'median')\\n    xq = median_imputer.fit_transform(x)\\n    df_s = pd.concat([df_s,xq],axis =0)\\n\""
      ]
     },
     "execution_count": 22,
     "metadata": {},
     "output_type": "execute_result"
    }
   ],
   "source": [
    "\"\"\"\n",
    "df_grp = df.groupby(['entry_page','locale','traffic_type','day_of_week'])\n",
    "from sklearn.impute import SimpleImputer\n",
    "df_s = pd.DataFrame()\n",
    "for x in df_grp:\n",
    "    median_imputer = SimpleImputer(strategy = 'median')\n",
    "    xq = median_imputer.fit_transform(x)\n",
    "    df_s = pd.concat([df_s,xq],axis =0)\n",
    "\"\"\""
   ]
  },
  {
   "cell_type": "code",
   "execution_count": 23,
   "metadata": {},
   "outputs": [],
   "source": [
    "df_tr = df[df['hits']!='\\\\N']\n",
    "df_te = df[df['hits']=='\\\\N']"
   ]
  },
  {
   "cell_type": "code",
   "execution_count": 24,
   "metadata": {},
   "outputs": [
    {
     "name": "stderr",
     "output_type": "stream",
     "text": [
      "<ipython-input-24-6df0459ee526>:2: SettingWithCopyWarning: \n",
      "A value is trying to be set on a copy of a slice from a DataFrame.\n",
      "Try using .loc[row_indexer,col_indexer] = value instead\n",
      "\n",
      "See the caveats in the documentation: https://pandas.pydata.org/pandas-docs/stable/user_guide/indexing.html#returning-a-view-versus-a-copy\n",
      "  df_tr['session_duration'] = df_tr['session_duration'].replace('\\\\N',np.nan)\n",
      "<ipython-input-24-6df0459ee526>:3: SettingWithCopyWarning: \n",
      "A value is trying to be set on a copy of a slice from a DataFrame.\n",
      "Try using .loc[row_indexer,col_indexer] = value instead\n",
      "\n",
      "See the caveats in the documentation: https://pandas.pydata.org/pandas-docs/stable/user_guide/indexing.html#returning-a-view-versus-a-copy\n",
      "  df_tr['session_duration'] = df_tr['session_duration'].astype(float)\n",
      "<ipython-input-24-6df0459ee526>:5: SettingWithCopyWarning: \n",
      "A value is trying to be set on a copy of a slice from a DataFrame.\n",
      "Try using .loc[row_indexer,col_indexer] = value instead\n",
      "\n",
      "See the caveats in the documentation: https://pandas.pydata.org/pandas-docs/stable/user_guide/indexing.html#returning-a-view-versus-a-copy\n",
      "  df_te['session_duration'] = df_te['session_duration'].replace('\\\\N',np.nan)\n",
      "<ipython-input-24-6df0459ee526>:6: SettingWithCopyWarning: \n",
      "A value is trying to be set on a copy of a slice from a DataFrame.\n",
      "Try using .loc[row_indexer,col_indexer] = value instead\n",
      "\n",
      "See the caveats in the documentation: https://pandas.pydata.org/pandas-docs/stable/user_guide/indexing.html#returning-a-view-versus-a-copy\n",
      "  df_te['session_duration'] = df_te['session_duration'].astype(float)\n"
     ]
    }
   ],
   "source": [
    "\n",
    "#---------------------------------------------#\n",
    "df_tr['session_duration'] = df_tr['session_duration'].replace('\\\\N',np.nan)\n",
    "df_tr['session_duration'] = df_tr['session_duration'].astype(float)\n",
    "\n",
    "df_te['session_duration'] = df_te['session_duration'].replace('\\\\N',np.nan)\n",
    "df_te['session_duration'] = df_te['session_duration'].astype(float)"
   ]
  },
  {
   "cell_type": "code",
   "execution_count": 25,
   "metadata": {},
   "outputs": [
    {
     "name": "stderr",
     "output_type": "stream",
     "text": [
      "<ipython-input-25-9516f71af0bc>:1: SettingWithCopyWarning: \n",
      "A value is trying to be set on a copy of a slice from a DataFrame.\n",
      "Try using .loc[row_indexer,col_indexer] = value instead\n",
      "\n",
      "See the caveats in the documentation: https://pandas.pydata.org/pandas-docs/stable/user_guide/indexing.html#returning-a-view-versus-a-copy\n",
      "  df_tr['session_duration'] =df_tr['session_duration'].fillna(0.01)\n",
      "<ipython-input-25-9516f71af0bc>:2: SettingWithCopyWarning: \n",
      "A value is trying to be set on a copy of a slice from a DataFrame.\n",
      "Try using .loc[row_indexer,col_indexer] = value instead\n",
      "\n",
      "See the caveats in the documentation: https://pandas.pydata.org/pandas-docs/stable/user_guide/indexing.html#returning-a-view-versus-a-copy\n",
      "  df_tr['session_duration'] = np.where(df_tr['session_duration']==0.0,0.01, df_tr['session_duration'])\n",
      "<ipython-input-25-9516f71af0bc>:4: SettingWithCopyWarning: \n",
      "A value is trying to be set on a copy of a slice from a DataFrame.\n",
      "Try using .loc[row_indexer,col_indexer] = value instead\n",
      "\n",
      "See the caveats in the documentation: https://pandas.pydata.org/pandas-docs/stable/user_guide/indexing.html#returning-a-view-versus-a-copy\n",
      "  df_te['session_duration'] =df_te['session_duration'].fillna(0.01)\n",
      "<ipython-input-25-9516f71af0bc>:5: SettingWithCopyWarning: \n",
      "A value is trying to be set on a copy of a slice from a DataFrame.\n",
      "Try using .loc[row_indexer,col_indexer] = value instead\n",
      "\n",
      "See the caveats in the documentation: https://pandas.pydata.org/pandas-docs/stable/user_guide/indexing.html#returning-a-view-versus-a-copy\n",
      "  df_te['session_duration'] = np.where(df_te['session_duration']==0.0,0.01, df_te['session_duration'])\n",
      "<ipython-input-25-9516f71af0bc>:8: SettingWithCopyWarning: \n",
      "A value is trying to be set on a copy of a slice from a DataFrame.\n",
      "Try using .loc[row_indexer,col_indexer] = value instead\n",
      "\n",
      "See the caveats in the documentation: https://pandas.pydata.org/pandas-docs/stable/user_guide/indexing.html#returning-a-view-versus-a-copy\n",
      "  df_tr['box_session_duration'] = fitted_data\n"
     ]
    },
    {
     "data": {
      "text/plain": [
       "<matplotlib.axes._subplots.AxesSubplot at 0x299773adeb0>"
      ]
     },
     "execution_count": 25,
     "metadata": {},
     "output_type": "execute_result"
    },
    {
     "data": {
      "image/png": "[encoded data removed]",
      "text/plain": [
       "<Figure size 432x288 with 1 Axes>"
      ]
     },
     "metadata": {
      "needs_background": "light"
     },
     "output_type": "display_data"
    }
   ],
   "source": [
    "\n",
    "df_tr['session_duration'] =df_tr['session_duration'].fillna(0.01)\n",
    "df_tr['session_duration'] = np.where(df_tr['session_duration']==0.0,0.01, df_tr['session_duration'])\n",
    "\n",
    "df_te['session_duration'] =df_te['session_duration'].fillna(0.01)\n",
    "df_te['session_duration'] = np.where(df_te['session_duration']==0.0,0.01, df_te['session_duration'])\n",
    "\n",
    "fitted_data, fitted_lambda = stats.boxcox(df_tr['session_duration']) \n",
    "df_tr['box_session_duration'] = fitted_data\n",
    "\n",
    "sns.distplot(df_tr['box_session_duration'])\n"
   ]
  },
  {
   "cell_type": "code",
   "execution_count": 26,
   "metadata": {},
   "outputs": [
    {
     "name": "stderr",
     "output_type": "stream",
     "text": [
      "<ipython-input-26-6dc55b741304>:1: SettingWithCopyWarning: \n",
      "A value is trying to be set on a copy of a slice from a DataFrame.\n",
      "Try using .loc[row_indexer,col_indexer] = value instead\n",
      "\n",
      "See the caveats in the documentation: https://pandas.pydata.org/pandas-docs/stable/user_guide/indexing.html#returning-a-view-versus-a-copy\n",
      "  df_tr['hits'] = np.where(df_tr['hits']==0.0,0.01, df_tr['hits'])\n",
      "<ipython-input-26-6dc55b741304>:2: SettingWithCopyWarning: \n",
      "A value is trying to be set on a copy of a slice from a DataFrame.\n",
      "Try using .loc[row_indexer,col_indexer] = value instead\n",
      "\n",
      "See the caveats in the documentation: https://pandas.pydata.org/pandas-docs/stable/user_guide/indexing.html#returning-a-view-versus-a-copy\n",
      "  df_tr['hits'] =df_tr['hits'].astype(float)\n"
     ]
    },
    {
     "data": {
      "text/plain": [
       "<matplotlib.axes._subplots.AxesSubplot at 0x299792718e0>"
      ]
     },
     "execution_count": 26,
     "metadata": {},
     "output_type": "execute_result"
    },
    {
     "data": {
      "image/png": "[encoded data removed]",
      "text/plain": [
       "<Figure size 432x288 with 1 Axes>"
      ]
     },
     "metadata": {
      "needs_background": "light"
     },
     "output_type": "display_data"
    }
   ],
   "source": [
    "\n",
    "df_tr['hits'] = np.where(df_tr['hits']==0.0,0.01, df_tr['hits'])\n",
    "df_tr['hits'] =df_tr['hits'].astype(float)\n",
    "fitted_data, fitted_lambda = stats.boxcox(df_tr['hits']) \n",
    "sns.distplot(fitted_data)"
   ]
  },
  {
   "cell_type": "code",
   "execution_count": 27,
   "metadata": {},
   "outputs": [
    {
     "name": "stderr",
     "output_type": "stream",
     "text": [
      "<ipython-input-27-9a051a5614af>:1: SettingWithCopyWarning: \n",
      "A value is trying to be set on a copy of a slice from a DataFrame.\n",
      "Try using .loc[row_indexer,col_indexer] = value instead\n",
      "\n",
      "See the caveats in the documentation: https://pandas.pydata.org/pandas-docs/stable/user_guide/indexing.html#returning-a-view-versus-a-copy\n",
      "  df_tr['log_hits'] = np.log(df_tr['hits'])\n"
     ]
    },
    {
     "data": {
      "text/plain": [
       "<matplotlib.axes._subplots.AxesSubplot at 0x29974b31970>"
      ]
     },
     "execution_count": 27,
     "metadata": {},
     "output_type": "execute_result"
    },
    {
     "data": {
      "image/png": "[encoded data removed]",
      "text/plain": [
       "<Figure size 432x288 with 1 Axes>"
      ]
     },
     "metadata": {
      "needs_background": "light"
     },
     "output_type": "display_data"
    }
   ],
   "source": [
    "df_tr['log_hits'] = np.log(df_tr['hits'])\n",
    "sns.distplot(df_tr['log_hits'])"
   ]
  },
  {
   "cell_type": "code",
   "execution_count": 28,
   "metadata": {},
   "outputs": [
    {
     "data": {
      "text/plain": [
       "L3    0.404792\n",
       "L6    0.167388\n",
       "L2    0.148924\n",
       "L5    0.131913\n",
       "L4    0.104129\n",
       "L1    0.042853\n",
       "Name: locale, dtype: float64"
      ]
     },
     "execution_count": 28,
     "metadata": {},
     "output_type": "execute_result"
    }
   ],
   "source": [
    "df['locale'].value_counts(normalize = True)"
   ]
  },
  {
   "cell_type": "code",
   "execution_count": 29,
   "metadata": {},
   "outputs": [
    {
     "name": "stderr",
     "output_type": "stream",
     "text": [
      "<ipython-input-29-ae1cc8d3fcfc>:1: SettingWithCopyWarning: \n",
      "A value is trying to be set on a copy of a slice from a DataFrame.\n",
      "Try using .loc[row_indexer,col_indexer] = value instead\n",
      "\n",
      "See the caveats in the documentation: https://pandas.pydata.org/pandas-docs/stable/user_guide/indexing.html#returning-a-view-versus-a-copy\n",
      "  df_tr['path_length'] = df_tr['path_id_set'].apply(lambda x: str(x).split(';'))\n",
      "<ipython-input-29-ae1cc8d3fcfc>:2: SettingWithCopyWarning: \n",
      "A value is trying to be set on a copy of a slice from a DataFrame.\n",
      "Try using .loc[row_indexer,col_indexer] = value instead\n",
      "\n",
      "See the caveats in the documentation: https://pandas.pydata.org/pandas-docs/stable/user_guide/indexing.html#returning-a-view-versus-a-copy\n",
      "  df_tr['path_length2'] =df_tr['path_length'].apply(lambda x:len(x))\n",
      "<ipython-input-29-ae1cc8d3fcfc>:3: SettingWithCopyWarning: \n",
      "A value is trying to be set on a copy of a slice from a DataFrame.\n",
      "Try using .loc[row_indexer,col_indexer] = value instead\n",
      "\n",
      "See the caveats in the documentation: https://pandas.pydata.org/pandas-docs/stable/user_guide/indexing.html#returning-a-view-versus-a-copy\n",
      "  df_te['path_length'] = df_te['path_id_set'].apply(lambda x: str(x).split(';'))\n",
      "<ipython-input-29-ae1cc8d3fcfc>:4: SettingWithCopyWarning: \n",
      "A value is trying to be set on a copy of a slice from a DataFrame.\n",
      "Try using .loc[row_indexer,col_indexer] = value instead\n",
      "\n",
      "See the caveats in the documentation: https://pandas.pydata.org/pandas-docs/stable/user_guide/indexing.html#returning-a-view-versus-a-copy\n",
      "  df_te['path_length2'] =df_te['path_length'].apply(lambda x:len(x))\n"
     ]
    }
   ],
   "source": [
    "df_tr['path_length'] = df_tr['path_id_set'].apply(lambda x: str(x).split(';'))\n",
    "df_tr['path_length2'] =df_tr['path_length'].apply(lambda x:len(x))\n",
    "df_te['path_length'] = df_te['path_id_set'].apply(lambda x: str(x).split(';'))\n",
    "df_te['path_length2'] =df_te['path_length'].apply(lambda x:len(x))"
   ]
  },
  {
   "cell_type": "markdown",
   "metadata": {},
   "source": [
    "# Start Modeling"
   ]
  },
  {
   "cell_type": "code",
   "execution_count": 30,
   "metadata": {},
   "outputs": [],
   "source": [
    "def inv_boxcox(y,ld):\n",
    "   if ld == 0:\n",
    "      return(np.exp(y))\n",
    "   else:\n",
    "      return(np.exp(np.log(ld*y+1)/ld))"
   ]
  },
  {
   "cell_type": "code",
   "execution_count": 31,
   "metadata": {},
   "outputs": [
    {
     "name": "stderr",
     "output_type": "stream",
     "text": [
      "<ipython-input-31-ffd69fc77a1d>:10: SettingWithCopyWarning: \n",
      "A value is trying to be set on a copy of a slice from a DataFrame.\n",
      "Try using .loc[row_indexer,col_indexer] = value instead\n",
      "\n",
      "See the caveats in the documentation: https://pandas.pydata.org/pandas-docs/stable/user_guide/indexing.html#returning-a-view-versus-a-copy\n",
      "  df_tr['log_hits'] = np.log(df_tr['hits'])\n",
      "<ipython-input-31-ffd69fc77a1d>:11: SettingWithCopyWarning: \n",
      "A value is trying to be set on a copy of a slice from a DataFrame.\n",
      "Try using .loc[row_indexer,col_indexer] = value instead\n",
      "\n",
      "See the caveats in the documentation: https://pandas.pydata.org/pandas-docs/stable/user_guide/indexing.html#returning-a-view-versus-a-copy\n",
      "  df_tr['box_sess'] = fitted_sess\n",
      "<ipython-input-31-ffd69fc77a1d>:12: SettingWithCopyWarning: \n",
      "A value is trying to be set on a copy of a slice from a DataFrame.\n",
      "Try using .loc[row_indexer,col_indexer] = value instead\n",
      "\n",
      "See the caveats in the documentation: https://pandas.pydata.org/pandas-docs/stable/user_guide/indexing.html#returning-a-view-versus-a-copy\n",
      "  df_tr['day_num'] = df_tr['day_of_week'].apply(lambda x:week_to_num(x))\n",
      "<ipython-input-31-ffd69fc77a1d>:15: SettingWithCopyWarning: \n",
      "A value is trying to be set on a copy of a slice from a DataFrame.\n",
      "Try using .loc[row_indexer,col_indexer] = value instead\n",
      "\n",
      "See the caveats in the documentation: https://pandas.pydata.org/pandas-docs/stable/user_guide/indexing.html#returning-a-view-versus-a-copy\n",
      "  df_te['box_sess'] = fitted_sess_te\n",
      "<ipython-input-31-ffd69fc77a1d>:16: SettingWithCopyWarning: \n",
      "A value is trying to be set on a copy of a slice from a DataFrame.\n",
      "Try using .loc[row_indexer,col_indexer] = value instead\n",
      "\n",
      "See the caveats in the documentation: https://pandas.pydata.org/pandas-docs/stable/user_guide/indexing.html#returning-a-view-versus-a-copy\n",
      "  df_te['day_num'] = df_te['day_of_week'].apply(lambda x:week_to_num(x))\n",
      "<ipython-input-31-ffd69fc77a1d>:17: SettingWithCopyWarning: \n",
      "A value is trying to be set on a copy of a slice from a DataFrame.\n",
      "Try using .loc[row_indexer,col_indexer] = value instead\n",
      "\n",
      "See the caveats in the documentation: https://pandas.pydata.org/pandas-docs/stable/user_guide/indexing.html#returning-a-view-versus-a-copy\n",
      "  df_te['log_hits'] = df_te['hits']\n"
     ]
    }
   ],
   "source": [
    "\n",
    "fitted_hits, fitted_lambda_hits = stats.boxcox(df_tr['hits']) \n",
    "\n",
    "\n",
    "fitted_sess, fitted_lambda_sess = stats.boxcox(df_tr['session_duration']) \n",
    "\n",
    "\n",
    "fitted_sess_te, fitted_lambda_sess_te = stats.boxcox(df_te['session_duration']) \n",
    "\n",
    "\n",
    "df_tr['log_hits'] = np.log(df_tr['hits'])\n",
    "df_tr['box_sess'] = fitted_sess\n",
    "df_tr['day_num'] = df_tr['day_of_week'].apply(lambda x:week_to_num(x))\n",
    "\n",
    "\n",
    "df_te['box_sess'] = fitted_sess_te\n",
    "df_te['day_num'] = df_te['day_of_week'].apply(lambda x:week_to_num(x))\n",
    "df_te['log_hits'] = df_te['hits']\n"
   ]
  },
  {
   "cell_type": "markdown",
   "metadata": {},
   "source": [
    "# Bivariate Analysis"
   ]
  },
  {
   "cell_type": "code",
   "execution_count": 32,
   "metadata": {},
   "outputs": [
    {
     "name": "stderr",
     "output_type": "stream",
     "text": [
      "<ipython-input-32-3ee6e200b551>:1: SettingWithCopyWarning: \n",
      "A value is trying to be set on a copy of a slice from a DataFrame.\n",
      "Try using .loc[row_indexer,col_indexer] = value instead\n",
      "\n",
      "See the caveats in the documentation: https://pandas.pydata.org/pandas-docs/stable/user_guide/indexing.html#returning-a-view-versus-a-copy\n",
      "  df_tr['hits'] = df_tr['hits'].astype(float)\n"
     ]
    },
    {
     "data": {
      "text/plain": [
       "Text(0, 0.5, 'Avg. hits')"
      ]
     },
     "execution_count": 32,
     "metadata": {},
     "output_type": "execute_result"
    },
    {
     "data": {
      "image/png": "[encoded data removed]",
      "text/plain": [
       "<Figure size 720x504 with 1 Axes>"
      ]
     },
     "metadata": {
      "needs_background": "light"
     },
     "output_type": "display_data"
    }
   ],
   "source": [
    "\n",
    "df_tr['hits'] = df_tr['hits'].astype(float)\n",
    "df_tr_locale = df_tr[['locale','hits']].groupby(['locale']).agg({'hits':'mean'})\n",
    "df_tr_locale['hits'].plot(kind = 'bar', figsize = (10,7))\n",
    "plt.xlabel(\"Locale\")\n",
    "plt.ylabel(\"Avg. hits\")\n"
   ]
  },
  {
   "cell_type": "code",
   "execution_count": 33,
   "metadata": {},
   "outputs": [
    {
     "name": "stderr",
     "output_type": "stream",
     "text": [
      "<ipython-input-33-d38fd7cbdf9b>:1: SettingWithCopyWarning: \n",
      "A value is trying to be set on a copy of a slice from a DataFrame.\n",
      "Try using .loc[row_indexer,col_indexer] = value instead\n",
      "\n",
      "See the caveats in the documentation: https://pandas.pydata.org/pandas-docs/stable/user_guide/indexing.html#returning-a-view-versus-a-copy\n",
      "  df_tr['agent_id2'] = df_tr['agent_id2'].astype(float)\n"
     ]
    },
    {
     "data": {
      "text/plain": [
       "Text(0, 0.5, 'Avg. hits')"
      ]
     },
     "execution_count": 33,
     "metadata": {},
     "output_type": "execute_result"
    },
    {
     "data": {
      "image/png": "[encoded data removed]",
      "text/plain": [
       "<Figure size 720x504 with 1 Axes>"
      ]
     },
     "metadata": {
      "needs_background": "light"
     },
     "output_type": "display_data"
    }
   ],
   "source": [
    "df_tr['agent_id2'] = df_tr['agent_id2'].astype(float)\n",
    "df_tr_agent = df_tr[['agent_id2','hits']].groupby(['agent_id2']).agg({'hits':'mean'})\n",
    "df_tr_agent['hits'].plot(kind = 'bar', figsize = (10,7))\n",
    "plt.xlabel(\"agent_id2\")\n",
    "plt.ylabel(\"Avg. hits\")\n"
   ]
  },
  {
   "cell_type": "code",
   "execution_count": 34,
   "metadata": {},
   "outputs": [
    {
     "data": {
      "text/plain": [
       "Text(0.5, 0, 'Frequency')"
      ]
     },
     "execution_count": 34,
     "metadata": {},
     "output_type": "execute_result"
    },
    {
     "data": {
      "image/png": "[encoded data removed]",
      "text/plain": [
       "<Figure size 432x288 with 1 Axes>"
      ]
     },
     "metadata": {
      "needs_background": "light"
     },
     "output_type": "display_data"
    }
   ],
   "source": [
    "df_tr['agent_id2'].value_counts(normalize = True).plot(kind = 'barh')\n",
    "plt.ylabel(\"Agent_id\")\n",
    "plt.xlabel(\"Frequency\")"
   ]
  },
  {
   "cell_type": "code",
   "execution_count": 35,
   "metadata": {},
   "outputs": [
    {
     "data": {
      "text/plain": [
       "10    184407\n",
       "1     147575\n",
       "9     143456\n",
       "8      42740\n",
       "2      29876\n",
       "14     22032\n",
       "7      17076\n",
       "13     13275\n",
       "0       1590\n",
       "11      1499\n",
       "12       276\n",
       "15        56\n",
       "3         40\n",
       "5         26\n",
       "4         23\n",
       "Name: agent_id, dtype: int64"
      ]
     },
     "execution_count": 35,
     "metadata": {},
     "output_type": "execute_result"
    }
   ],
   "source": [
    "df_tr['agent_id'].value_counts()"
   ]
  },
  {
   "cell_type": "code",
   "execution_count": 36,
   "metadata": {},
   "outputs": [
    {
     "data": {
      "text/plain": [
       "Text(0.5, 0, 'Frequency')"
      ]
     },
     "execution_count": 36,
     "metadata": {},
     "output_type": "execute_result"
    },
    {
     "data": {
      "image/png": "[encoded data removed]",
      "text/plain": [
       "<Figure size 432x288 with 1 Axes>"
      ]
     },
     "metadata": {
      "needs_background": "light"
     },
     "output_type": "display_data"
    }
   ],
   "source": [
    "df_tr['agent_id2'].value_counts(normalize = True).plot(kind = 'barh')\n",
    "plt.ylabel(\"Agent_id\")\n",
    "plt.xlabel(\"Frequency\")"
   ]
  },
  {
   "cell_type": "code",
   "execution_count": 37,
   "metadata": {},
   "outputs": [
    {
     "data": {
      "text/plain": [
       "Text(0.5, 0, 'Frequency')"
      ]
     },
     "execution_count": 37,
     "metadata": {},
     "output_type": "execute_result"
    },
    {
     "data": {
      "image/png": "[encoded data removed]",
      "text/plain": [
       "<Figure size 432x288 with 1 Axes>"
      ]
     },
     "metadata": {
      "needs_background": "light"
     },
     "output_type": "display_data"
    }
   ],
   "source": [
    "df_tr['entry_page2'].value_counts(normalize = True).plot(kind = 'barh')\n",
    "plt.ylabel(\"entry_page\")\n",
    "plt.xlabel(\"Frequency\")"
   ]
  },
  {
   "cell_type": "code",
   "execution_count": 38,
   "metadata": {},
   "outputs": [
    {
     "data": {
      "text/plain": [
       "array([ 1,  9,  8,  2, 13, 10,  6, 14, 11,  0,  7, 12,  4,  3, 15,  5],\n",
       "      dtype=int64)"
      ]
     },
     "execution_count": 38,
     "metadata": {},
     "output_type": "execute_result"
    }
   ],
   "source": [
    "df['agent_id'].unique()"
   ]
  },
  {
   "cell_type": "code",
   "execution_count": 39,
   "metadata": {},
   "outputs": [
    {
     "name": "stderr",
     "output_type": "stream",
     "text": [
      "<ipython-input-39-2c90cb8896b3>:1: SettingWithCopyWarning: \n",
      "A value is trying to be set on a copy of a slice from a DataFrame.\n",
      "Try using .loc[row_indexer,col_indexer] = value instead\n",
      "\n",
      "See the caveats in the documentation: https://pandas.pydata.org/pandas-docs/stable/user_guide/indexing.html#returning-a-view-versus-a-copy\n",
      "  df_tr['entry_page2'] = df_tr['entry_page2'].astype(float)\n"
     ]
    },
    {
     "data": {
      "text/plain": [
       "Text(0, 0.5, 'avg. hits')"
      ]
     },
     "execution_count": 39,
     "metadata": {},
     "output_type": "execute_result"
    },
    {
     "data": {
      "image/png": "[encoded data removed]",
      "text/plain": [
       "<Figure size 720x504 with 1 Axes>"
      ]
     },
     "metadata": {
      "needs_background": "light"
     },
     "output_type": "display_data"
    }
   ],
   "source": [
    "df_tr['entry_page2'] = df_tr['entry_page2'].astype(float)\n",
    "df_tr_entry = df_tr[['entry_page2','hits']].groupby(['entry_page2']).agg({'hits':'mean'})\n",
    "df_tr_entry['hits'].plot(kind = 'bar', figsize = (10,7))\n",
    "plt.xlabel(\"entry_page2\")\n",
    "plt.ylabel(\"avg. hits\")\n"
   ]
  },
  {
   "cell_type": "code",
   "execution_count": 40,
   "metadata": {},
   "outputs": [
    {
     "name": "stderr",
     "output_type": "stream",
     "text": [
      "<ipython-input-40-37d5e12f9e94>:1: SettingWithCopyWarning: \n",
      "A value is trying to be set on a copy of a slice from a DataFrame.\n",
      "Try using .loc[row_indexer,col_indexer] = value instead\n",
      "\n",
      "See the caveats in the documentation: https://pandas.pydata.org/pandas-docs/stable/user_guide/indexing.html#returning-a-view-versus-a-copy\n",
      "  df_tr['traffic_type'] = df_tr['traffic_type'].astype(float)\n"
     ]
    },
    {
     "data": {
      "text/plain": [
       "Text(0, 0.5, 'avg. hits')"
      ]
     },
     "execution_count": 40,
     "metadata": {},
     "output_type": "execute_result"
    },
    {
     "data": {
      "image/png": "[encoded data removed]",
      "text/plain": [
       "<Figure size 720x504 with 1 Axes>"
      ]
     },
     "metadata": {
      "needs_background": "light"
     },
     "output_type": "display_data"
    }
   ],
   "source": [
    "df_tr['traffic_type'] = df_tr['traffic_type'].astype(float)\n",
    "df_tr_locale = df_tr[['traffic_type','hits']].groupby(['traffic_type']).agg({'hits':'mean'})\n",
    "df_tr_locale['hits'].plot(kind = 'bar', figsize = (10,7))\n",
    "plt.xlabel(\"traffic_type\")\n",
    "plt.ylabel(\"avg. hits\")\n"
   ]
  },
  {
   "cell_type": "code",
   "execution_count": 41,
   "metadata": {},
   "outputs": [
    {
     "data": {
      "text/plain": [
       "<matplotlib.axes._subplots.AxesSubplot at 0x299011051c0>"
      ]
     },
     "execution_count": 41,
     "metadata": {},
     "output_type": "execute_result"
    },
    {
     "data": {
      "image/png": "[encoded data removed]",
      "text/plain": [
       "<Figure size 432x288 with 1 Axes>"
      ]
     },
     "metadata": {
      "needs_background": "light"
     },
     "output_type": "display_data"
    }
   ],
   "source": [
    "sns.scatterplot(df_tr['path_length2'], df_tr['log_hits'])"
   ]
  },
  {
   "cell_type": "code",
   "execution_count": 42,
   "metadata": {},
   "outputs": [
    {
     "data": {
      "text/plain": [
       "<matplotlib.axes._subplots.AxesSubplot at 0x299027ab0a0>"
      ]
     },
     "execution_count": 42,
     "metadata": {},
     "output_type": "execute_result"
    },
    {
     "data": {
      "image/png": "[encoded data removed]",
      "text/plain": [
       "<Figure size 432x288 with 2 Axes>"
      ]
     },
     "metadata": {
      "needs_background": "light"
     },
     "output_type": "display_data"
    }
   ],
   "source": [
    "cols_numeric = [\n",
    "     'locale',\n",
    "     'day_num',\n",
    "     'hour_of_day',\n",
    "     'box_sess',\n",
    "    'path_length2',\n",
    "    'log_hits',\n",
    "\n",
    "]\n",
    "df_tr[cols_numeric].corr()\n",
    "sns.heatmap(data=df_tr[cols_numeric].corr(), annot=True, fmt='.2f',cmap = 'Reds')\n"
   ]
  },
  {
   "cell_type": "code",
   "execution_count": 43,
   "metadata": {},
   "outputs": [],
   "source": [
    "cols = ['row_num',\n",
    "     'locale',\n",
    "     'day_num',\n",
    "     'hour_of_day',\n",
    "     'agent_id2',\n",
    "     'entry_page2',\n",
    "#     'path_id_set',\n",
    "     'traffic_type',\n",
    "     'box_sess',\n",
    "    'log_hits',\n",
    "   #     'box_hits',\n",
    "        'hits',\n",
    "        'path_length2',\n",
    "     'entry_page2']\n",
    "\n",
    "\n",
    "\n",
    "\n",
    "df_tr2 = df_tr[cols]\n",
    "df_te2 = df_te[cols]"
   ]
  },
  {
   "cell_type": "markdown",
   "metadata": {},
   "source": [
    "# **Model Train and Validation**"
   ]
  },
  {
   "cell_type": "code",
   "execution_count": 44,
   "metadata": {},
   "outputs": [],
   "source": [
    "df_tr2 = pd.get_dummies(df_tr2, columns = ['locale','agent_id2','entry_page2','traffic_type'])\n",
    "\n",
    "df_te2 = pd.get_dummies(df_te2, columns = ['locale','agent_id2','entry_page2','traffic_type'])\n",
    "\n",
    "\n",
    "\n",
    "\n",
    "df_y = df_tr2[['hits','log_hits','row_num']]\n",
    "df_x = df_tr2.drop(['hits','log_hits'],axis = 1)\n",
    "\n",
    "\n",
    "\n",
    "test_y = df_te2[['hits','log_hits','row_num']]\n",
    "test_x = df_te2.drop(['hits','log_hits'],axis = 1)\n",
    "\n",
    "\n",
    "df_x.set_index('row_num',inplace = True)\n",
    "df_y.set_index('row_num',inplace = True)\n",
    "test_x.set_index('row_num',inplace = True)\n",
    "test_y.set_index('row_num',inplace = True)\n",
    "\n",
    "\n",
    "\n",
    "df_train2_x, df_val2_x, df_train2_y, df_val2_y = train_test_split(df_x, df_y,\n",
    "                                                                        test_size=0.2, random_state=42,shuffle =True)\n",
    "\n",
    "#fitted_hits, fitted_lambda_hits = stats.boxcox(df_train2_y['hits']) \n",
    "#df_train2_y['box_hits'] = fitted_lambda_hits"
   ]
  },
  {
   "cell_type": "code",
   "execution_count": 45,
   "metadata": {},
   "outputs": [
    {
     "data": {
      "text/plain": [
       "RandomForestRegressor(oob_score=True, random_state=42)"
      ]
     },
     "execution_count": 45,
     "metadata": {},
     "output_type": "execute_result"
    }
   ],
   "source": [
    "rf = RandomForestRegressor(random_state=42,oob_score = True)\n",
    "\n",
    "rf.fit(df_train2_x,df_train2_y['log_hits'])"
   ]
  },
  {
   "cell_type": "code",
   "execution_count": 46,
   "metadata": {},
   "outputs": [
    {
     "data": {
      "text/plain": [
       "47.93202275897184"
      ]
     },
     "execution_count": 46,
     "metadata": {},
     "output_type": "execute_result"
    }
   ],
   "source": [
    "\n",
    "log_hits_pred = rf.predict(df_val2_x)\n",
    "hits_pred = np.exp(log_hits_pred)\n",
    "#hits_pred = inv_boxcox(box_hits_pred,fitted_lambda_hits)\n",
    "rmse(df_val2_y['hits'],hits_pred)"
   ]
  },
  {
   "cell_type": "markdown",
   "metadata": {},
   "source": [
    "# Train RF model with randomized search"
   ]
  },
  {
   "cell_type": "code",
   "execution_count": 47,
   "metadata": {},
   "outputs": [],
   "source": [
    "\n",
    "score_rmse = make_scorer(rmse, greater_is_better=False)\n",
    "param_grid =    {   \n",
    "    'n_estimators': range(30,120),\n",
    "    'max_features': ['sqrt'],\n",
    "    'max_depth' : range(1,10),\n",
    "    'min_samples_leaf':range(1,5),\n",
    "    'min_samples_split':range(2,7)\n",
    "  #  'criterion' :['entropy']\n",
    "    }\n",
    "\n",
    "CV_rf = RandomizedSearchCV(estimator=rf, param_distributions=param_grid, cv= 5,n_jobs = 4,\n",
    "                                n_iter = 10,verbose = 3,scoring = score_rmse,return_train_score = True)"
   ]
  },
  {
   "cell_type": "code",
   "execution_count": 48,
   "metadata": {},
   "outputs": [
    {
     "name": "stdout",
     "output_type": "stream",
     "text": [
      "Fitting 5 folds for each of 10 candidates, totalling 50 fits\n"
     ]
    },
    {
     "name": "stderr",
     "output_type": "stream",
     "text": [
      "[Parallel(n_jobs=4)]: Using backend LokyBackend with 4 concurrent workers.\n",
      "[Parallel(n_jobs=4)]: Done  24 tasks      | elapsed:  2.8min\n",
      "[Parallel(n_jobs=4)]: Done  50 out of  50 | elapsed:  6.3min finished\n"
     ]
    }
   ],
   "source": [
    "CV_rf.fit(df_train2_x,df_train2_y['log_hits'])\n",
    "be = CV_rf.best_estimator_"
   ]
  },
  {
   "cell_type": "code",
   "execution_count": 49,
   "metadata": {},
   "outputs": [
    {
     "data": {
      "text/html": [
       "<div>\n",
       "<style scoped>\n",
       "    .dataframe tbody tr th:only-of-type {\n",
       "        vertical-align: middle;\n",
       "    }\n",
       "\n",
       "    .dataframe tbody tr th {\n",
       "        vertical-align: top;\n",
       "    }\n",
       "\n",
       "    .dataframe thead th {\n",
       "        text-align: right;\n",
       "    }\n",
       "</style>\n",
       "<table border=\"1\" class=\"dataframe\">\n",
       "  <thead>\n",
       "    <tr style=\"text-align: right;\">\n",
       "      <th></th>\n",
       "      <th>colnames</th>\n",
       "      <th>Feature_Imp</th>\n",
       "    </tr>\n",
       "  </thead>\n",
       "  <tbody>\n",
       "    <tr>\n",
       "      <th>2</th>\n",
       "      <td>box_sess</td>\n",
       "      <td>0.462341</td>\n",
       "    </tr>\n",
       "    <tr>\n",
       "      <th>3</th>\n",
       "      <td>path_length2</td>\n",
       "      <td>0.280110</td>\n",
       "    </tr>\n",
       "    <tr>\n",
       "      <th>37</th>\n",
       "      <td>traffic_type_6.0</td>\n",
       "      <td>0.050284</td>\n",
       "    </tr>\n",
       "    <tr>\n",
       "      <th>32</th>\n",
       "      <td>entry_page2_9999.0</td>\n",
       "      <td>0.030058</td>\n",
       "    </tr>\n",
       "    <tr>\n",
       "      <th>24</th>\n",
       "      <td>entry_page2_9999.0</td>\n",
       "      <td>0.023805</td>\n",
       "    </tr>\n",
       "    <tr>\n",
       "      <th>23</th>\n",
       "      <td>entry_page2_3100.0</td>\n",
       "      <td>0.021777</td>\n",
       "    </tr>\n",
       "    <tr>\n",
       "      <th>25</th>\n",
       "      <td>entry_page2_2100.0</td>\n",
       "      <td>0.020724</td>\n",
       "    </tr>\n",
       "    <tr>\n",
       "      <th>17</th>\n",
       "      <td>entry_page2_2100.0</td>\n",
       "      <td>0.020504</td>\n",
       "    </tr>\n",
       "    <tr>\n",
       "      <th>34</th>\n",
       "      <td>traffic_type_2.0</td>\n",
       "      <td>0.018817</td>\n",
       "    </tr>\n",
       "    <tr>\n",
       "      <th>31</th>\n",
       "      <td>entry_page2_3100.0</td>\n",
       "      <td>0.015946</td>\n",
       "    </tr>\n",
       "    <tr>\n",
       "      <th>33</th>\n",
       "      <td>traffic_type_1.0</td>\n",
       "      <td>0.009522</td>\n",
       "    </tr>\n",
       "    <tr>\n",
       "      <th>27</th>\n",
       "      <td>entry_page2_2113.0</td>\n",
       "      <td>0.007255</td>\n",
       "    </tr>\n",
       "    <tr>\n",
       "      <th>19</th>\n",
       "      <td>entry_page2_2113.0</td>\n",
       "      <td>0.006867</td>\n",
       "    </tr>\n",
       "    <tr>\n",
       "      <th>6</th>\n",
       "      <td>locale_L3</td>\n",
       "      <td>0.005120</td>\n",
       "    </tr>\n",
       "    <tr>\n",
       "      <th>22</th>\n",
       "      <td>entry_page2_2116.0</td>\n",
       "      <td>0.004195</td>\n",
       "    </tr>\n",
       "    <tr>\n",
       "      <th>30</th>\n",
       "      <td>entry_page2_2116.0</td>\n",
       "      <td>0.003250</td>\n",
       "    </tr>\n",
       "    <tr>\n",
       "      <th>18</th>\n",
       "      <td>entry_page2_2111.0</td>\n",
       "      <td>0.002258</td>\n",
       "    </tr>\n",
       "    <tr>\n",
       "      <th>14</th>\n",
       "      <td>agent_id2_10.0</td>\n",
       "      <td>0.002203</td>\n",
       "    </tr>\n",
       "    <tr>\n",
       "      <th>10</th>\n",
       "      <td>agent_id2_1.0</td>\n",
       "      <td>0.002181</td>\n",
       "    </tr>\n",
       "    <tr>\n",
       "      <th>13</th>\n",
       "      <td>agent_id2_9.0</td>\n",
       "      <td>0.001846</td>\n",
       "    </tr>\n",
       "    <tr>\n",
       "      <th>26</th>\n",
       "      <td>entry_page2_2111.0</td>\n",
       "      <td>0.001801</td>\n",
       "    </tr>\n",
       "    <tr>\n",
       "      <th>20</th>\n",
       "      <td>entry_page2_2114.0</td>\n",
       "      <td>0.001527</td>\n",
       "    </tr>\n",
       "    <tr>\n",
       "      <th>36</th>\n",
       "      <td>traffic_type_4.0</td>\n",
       "      <td>0.001103</td>\n",
       "    </tr>\n",
       "    <tr>\n",
       "      <th>1</th>\n",
       "      <td>hour_of_day</td>\n",
       "      <td>0.000981</td>\n",
       "    </tr>\n",
       "    <tr>\n",
       "      <th>35</th>\n",
       "      <td>traffic_type_3.0</td>\n",
       "      <td>0.000860</td>\n",
       "    </tr>\n",
       "    <tr>\n",
       "      <th>28</th>\n",
       "      <td>entry_page2_2114.0</td>\n",
       "      <td>0.000856</td>\n",
       "    </tr>\n",
       "    <tr>\n",
       "      <th>8</th>\n",
       "      <td>locale_L5</td>\n",
       "      <td>0.000675</td>\n",
       "    </tr>\n",
       "    <tr>\n",
       "      <th>5</th>\n",
       "      <td>locale_L2</td>\n",
       "      <td>0.000521</td>\n",
       "    </tr>\n",
       "    <tr>\n",
       "      <th>0</th>\n",
       "      <td>day_num</td>\n",
       "      <td>0.000514</td>\n",
       "    </tr>\n",
       "    <tr>\n",
       "      <th>7</th>\n",
       "      <td>locale_L4</td>\n",
       "      <td>0.000388</td>\n",
       "    </tr>\n",
       "    <tr>\n",
       "      <th>9</th>\n",
       "      <td>locale_L6</td>\n",
       "      <td>0.000345</td>\n",
       "    </tr>\n",
       "    <tr>\n",
       "      <th>16</th>\n",
       "      <td>agent_id2_9999.0</td>\n",
       "      <td>0.000323</td>\n",
       "    </tr>\n",
       "    <tr>\n",
       "      <th>12</th>\n",
       "      <td>agent_id2_8.0</td>\n",
       "      <td>0.000230</td>\n",
       "    </tr>\n",
       "    <tr>\n",
       "      <th>11</th>\n",
       "      <td>agent_id2_2.0</td>\n",
       "      <td>0.000198</td>\n",
       "    </tr>\n",
       "    <tr>\n",
       "      <th>29</th>\n",
       "      <td>entry_page2_2115.0</td>\n",
       "      <td>0.000188</td>\n",
       "    </tr>\n",
       "    <tr>\n",
       "      <th>15</th>\n",
       "      <td>agent_id2_14.0</td>\n",
       "      <td>0.000152</td>\n",
       "    </tr>\n",
       "    <tr>\n",
       "      <th>4</th>\n",
       "      <td>locale_L1</td>\n",
       "      <td>0.000143</td>\n",
       "    </tr>\n",
       "    <tr>\n",
       "      <th>21</th>\n",
       "      <td>entry_page2_2115.0</td>\n",
       "      <td>0.000079</td>\n",
       "    </tr>\n",
       "    <tr>\n",
       "      <th>38</th>\n",
       "      <td>traffic_type_7.0</td>\n",
       "      <td>0.000036</td>\n",
       "    </tr>\n",
       "    <tr>\n",
       "      <th>39</th>\n",
       "      <td>traffic_type_10.0</td>\n",
       "      <td>0.000017</td>\n",
       "    </tr>\n",
       "  </tbody>\n",
       "</table>\n",
       "</div>"
      ],
      "text/plain": [
       "              colnames  Feature_Imp\n",
       "2             box_sess     0.462341\n",
       "3         path_length2     0.280110\n",
       "37    traffic_type_6.0     0.050284\n",
       "32  entry_page2_9999.0     0.030058\n",
       "24  entry_page2_9999.0     0.023805\n",
       "23  entry_page2_3100.0     0.021777\n",
       "25  entry_page2_2100.0     0.020724\n",
       "17  entry_page2_2100.0     0.020504\n",
       "34    traffic_type_2.0     0.018817\n",
       "31  entry_page2_3100.0     0.015946\n",
       "33    traffic_type_1.0     0.009522\n",
       "27  entry_page2_2113.0     0.007255\n",
       "19  entry_page2_2113.0     0.006867\n",
       "6            locale_L3     0.005120\n",
       "22  entry_page2_2116.0     0.004195\n",
       "30  entry_page2_2116.0     0.003250\n",
       "18  entry_page2_2111.0     0.002258\n",
       "14      agent_id2_10.0     0.002203\n",
       "10       agent_id2_1.0     0.002181\n",
       "13       agent_id2_9.0     0.001846\n",
       "26  entry_page2_2111.0     0.001801\n",
       "20  entry_page2_2114.0     0.001527\n",
       "36    traffic_type_4.0     0.001103\n",
       "1          hour_of_day     0.000981\n",
       "35    traffic_type_3.0     0.000860\n",
       "28  entry_page2_2114.0     0.000856\n",
       "8            locale_L5     0.000675\n",
       "5            locale_L2     0.000521\n",
       "0              day_num     0.000514\n",
       "7            locale_L4     0.000388\n",
       "9            locale_L6     0.000345\n",
       "16    agent_id2_9999.0     0.000323\n",
       "12       agent_id2_8.0     0.000230\n",
       "11       agent_id2_2.0     0.000198\n",
       "29  entry_page2_2115.0     0.000188\n",
       "15      agent_id2_14.0     0.000152\n",
       "4            locale_L1     0.000143\n",
       "21  entry_page2_2115.0     0.000079\n",
       "38    traffic_type_7.0     0.000036\n",
       "39   traffic_type_10.0     0.000017"
      ]
     },
     "execution_count": 49,
     "metadata": {},
     "output_type": "execute_result"
    }
   ],
   "source": [
    "feature_importances(be,df_train2_x)"
   ]
  },
  {
   "cell_type": "code",
   "execution_count": 50,
   "metadata": {},
   "outputs": [
    {
     "name": "stdout",
     "output_type": "stream",
     "text": [
      "55.59379399314428\n"
     ]
    }
   ],
   "source": [
    "log_hits_pred = be.predict(df_val2_x)\n",
    "hits_pred = np.exp(log_hits_pred)\n",
    "print(rmse(df_val2_y['hits'],hits_pred))\n",
    "res = pd.DataFrame()\n",
    "res['hits'] = df_val2_y['hits']\n",
    "res['hits_pred'] = hits_pred\n"
   ]
  },
  {
   "cell_type": "code",
   "execution_count": 51,
   "metadata": {},
   "outputs": [
    {
     "data": {
      "text/plain": [
       "<matplotlib.axes._subplots.AxesSubplot at 0x29900791460>"
      ]
     },
     "execution_count": 51,
     "metadata": {},
     "output_type": "execute_result"
    },
    {
     "data": {
      "image/png": "[encoded data removed]",
      "text/plain": [
       "<Figure size 432x288 with 1 Axes>"
      ]
     },
     "metadata": {
      "needs_background": "light"
     },
     "output_type": "display_data"
    }
   ],
   "source": [
    "res = res.sort_index(axis=0)\n",
    "res.plot()"
   ]
  },
  {
   "cell_type": "markdown",
   "metadata": {},
   "source": []
  },
  {
   "cell_type": "markdown",
   "metadata": {},
   "source": [
    "# Train Randomized Search RF model on Entire Training Data"
   ]
  },
  {
   "cell_type": "code",
   "execution_count": 52,
   "metadata": {},
   "outputs": [
    {
     "name": "stdout",
     "output_type": "stream",
     "text": [
      "Fitting 5 folds for each of 10 candidates, totalling 50 fits\n"
     ]
    },
    {
     "name": "stderr",
     "output_type": "stream",
     "text": [
      "[Parallel(n_jobs=4)]: Using backend LokyBackend with 4 concurrent workers.\n",
      "[Parallel(n_jobs=4)]: Done  24 tasks      | elapsed:  4.0min\n",
      "[Parallel(n_jobs=4)]: Done  50 out of  50 | elapsed:  8.4min finished\n"
     ]
    }
   ],
   "source": [
    "CV_rf2 = RandomizedSearchCV(estimator=rf, param_distributions=param_grid, cv= 5,n_jobs = 4,\n",
    "                                n_iter = 10,verbose = 3,scoring = score_rmse,return_train_score = True)\n",
    "CV_rf2.fit(df_x,df_y['log_hits'])\n",
    "\n",
    "be2 = CV_rf2.best_estimator_"
   ]
  }
 ],
 "metadata": {
  "kernelspec": {
   "display_name": "Python 3",
   "language": "python",
   "name": "python3"
  },
  "language_info": {
   "codemirror_mode": {
    "name": "ipython",
    "version": 3
   },
   "file_extension": ".py",
   "mimetype": "text/x-python",
   "name": "python",
   "nbconvert_exporter": "python",
   "pygments_lexer": "ipython3",
   "version": "3.8.3"
  }
 },
 "nbformat": 4,
 "nbformat_minor": 4
}
